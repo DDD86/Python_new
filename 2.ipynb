{
  "nbformat": 4,
  "nbformat_minor": 0,
  "metadata": {
    "colab": {
      "provenance": [],
      "authorship_tag": "ABX9TyPqMotpgDDB7h1xYF+6sRWh",
      "include_colab_link": true
    },
    "kernelspec": {
      "name": "python3",
      "display_name": "Python 3"
    },
    "language_info": {
      "name": "python"
    }
  },
  "cells": [
    {
      "cell_type": "markdown",
      "metadata": {
        "id": "view-in-github",
        "colab_type": "text"
      },
      "source": [
        "<a href=\"https://colab.research.google.com/github/DDD86/Python_new/blob/main/2.ipynb\" target=\"_parent\"><img src=\"https://colab.research.google.com/assets/colab-badge.svg\" alt=\"Open In Colab\"/></a>"
      ]
    },
    {
      "cell_type": "code",
      "execution_count": 1,
      "metadata": {
        "id": "BFNq4lfxUEUY"
      },
      "outputs": [],
      "source": [
        "from statsmodels.stats.proportion import proportions_ztest"
      ]
    },
    {
      "cell_type": "code",
      "source": [
        "monthly_traffic = 40000\n",
        "traffic_sources = 3\n",
        "\n",
        "conversions = [25000, 30000, 32000]\n",
        "total_visitors = [monthly_traffic * traffic_sources] * 3\n",
        "\n",
        "# Текущая конверсия\n",
        "p_control = 0.05\n",
        "\n",
        "# Проведение Z-теста для каждого источника\n",
        "for conv, total in zip(conversions, total_visitors):\n",
        "    z_stat, p_value = proportions_ztest(conv, total, value=p_control)\n",
        "    print(f\"Z-stat: {z_stat:.2f}, P-value: {p_value:.5f}\")"
      ],
      "metadata": {
        "colab": {
          "base_uri": "https://localhost:8080/"
        },
        "id": "kIblibDQUKTN",
        "outputId": "f333494a-ad09-4228-a9cc-6860102973c6"
      },
      "execution_count": 3,
      "outputs": [
        {
          "output_type": "stream",
          "name": "stdout",
          "text": [
            "Z-stat: 135.06, P-value: 0.00000\n",
            "Z-stat: 160.00, P-value: 0.00000\n",
            "Z-stat: 169.73, P-value: 0.00000\n"
          ]
        }
      ]
    },
    {
      "cell_type": "markdown",
      "source": [
        "**Время тестирования:** Около 4 дней, если привлекать 1333 посетителя в день, действительно будет достаточно для тестирования гипотезы, исходя из требуемого объема трафика.\n",
        "\n",
        "**Результаты теста:** Поскольку результаты показывают значительное увеличение конверсии для всех трёх источников, можно уверенно сказать, что изменения эффективны.\n",
        "\n",
        "**Рекомендации:**\n",
        "\n",
        "**Внедрение изменений:** Поскольку тест показал значительные улучшения, разумно применить эти изменения на постоянной основе.\n",
        "\n",
        "**Тестирование новых идей:** Продолжайте экспериментировать с другими возможностями, так как дальнейшее тестирование может привести к ещё большему увеличению конверсии.\n",
        "\n",
        "**Мониторинг:** После внедрения изменений важно продолжать наблюдать за результатами, чтобы убедиться, что улучшения сохраняются с течением времени."
      ],
      "metadata": {
        "id": "BnAJ-Sv-VJSt"
      }
    },
    {
      "cell_type": "code",
      "source": [],
      "metadata": {
        "id": "MkR4vk44VUVK"
      },
      "execution_count": null,
      "outputs": []
    }
  ]
}