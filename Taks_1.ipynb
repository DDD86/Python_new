{
  "nbformat": 4,
  "nbformat_minor": 0,
  "metadata": {
    "colab": {
      "provenance": [],
      "authorship_tag": "ABX9TyPBu0+NY3ysuOx40ByBD24d",
      "include_colab_link": true
    },
    "kernelspec": {
      "name": "python3",
      "display_name": "Python 3"
    },
    "language_info": {
      "name": "python"
    }
  },
  "cells": [
    {
      "cell_type": "markdown",
      "metadata": {
        "id": "view-in-github",
        "colab_type": "text"
      },
      "source": [
        "<a href=\"https://colab.research.google.com/github/DDD86/Python_new/blob/main/Taks_1.ipynb\" target=\"_parent\"><img src=\"https://colab.research.google.com/assets/colab-badge.svg\" alt=\"Open In Colab\"/></a>"
      ]
    },
    {
      "cell_type": "code",
      "execution_count": 1,
      "metadata": {
        "id": "7JgSkBRISAY1"
      },
      "outputs": [],
      "source": [
        "import pandas as pd\n",
        "from scipy import stats"
      ]
    },
    {
      "cell_type": "code",
      "source": [
        "data = pd.read_csv('ab_stats.csv')"
      ],
      "metadata": {
        "id": "FnYxYWgxSC2w"
      },
      "execution_count": 2,
      "outputs": []
    },
    {
      "cell_type": "code",
      "source": [
        "# Расчет ARPPU для каждой группы\n",
        "grouped = data.groupby('ab_group').agg(\n",
        "    total_revenue=('revenue', 'sum'),\n",
        "    total_purchases=('num_purchases', 'sum')\n",
        ")\n",
        "\n",
        "grouped['ARPPU'] = grouped['total_revenue'] / grouped['total_purchases']\n",
        "\n",
        "# Вывод ARPPU\n",
        "print(\"ARPPU по группам:\")\n",
        "print(grouped[['ARPPU']])"
      ],
      "metadata": {
        "colab": {
          "base_uri": "https://localhost:8080/"
        },
        "id": "i_APdr7cSGoQ",
        "outputId": "5a7039c8-d57b-41d4-dcae-3b5fa800a0ea"
      },
      "execution_count": 3,
      "outputs": [
        {
          "output_type": "stream",
          "name": "stdout",
          "text": [
            "ARPPU по группам:\n",
            "             ARPPU\n",
            "ab_group          \n",
            "A         7.978013\n",
            "B         6.711684\n"
          ]
        }
      ]
    },
    {
      "cell_type": "code",
      "source": [
        "# Подготовка данных для t-теста\n",
        "group_a = data[data['ab_group'] == 'A']['revenue'] / data[data['ab_group'] == 'A']['num_purchases']\n",
        "group_b = data[data['ab_group'] == 'B']['revenue'] / data[data['ab_group'] == 'B']['num_purchases']\n",
        "\n",
        "# Удаление NaN значений\n",
        "group_a = group_a.dropna()\n",
        "group_b = group_b.dropna()\n",
        "\n",
        "# Проведение t-теста\n",
        "t_stat, p_value = stats.ttest_ind(group_a, group_b, equal_var=False)\n",
        "\n",
        "# Вывод результатов теста\n",
        "print(f\"T-статистика: {t_stat}, p-значение: {p_value}\")\n",
        "\n",
        "# Интерпретация результатов\n",
        "if p_value < 0.05:\n",
        "    print(\"Разница между группами статистически значима.\")\n",
        "else:\n",
        "    print(\"Разница между группами незначительна.\")"
      ],
      "metadata": {
        "colab": {
          "base_uri": "https://localhost:8080/"
        },
        "id": "--yi2so3SL5E",
        "outputId": "0c230506-df36-430b-f77a-ef452aafb982"
      },
      "execution_count": 4,
      "outputs": [
        {
          "output_type": "stream",
          "name": "stdout",
          "text": [
            "T-статистика: -0.013010104538455304, p-значение: 0.9896251290733944\n",
            "Разница между группами незначительна.\n"
          ]
        }
      ]
    },
    {
      "cell_type": "markdown",
      "source": [
        "**Рекомендации для менеджера:**\n",
        "\n",
        "-Изучить, что работает в группе A: Посмотреть, почему там ARPPU выше, и использовать эти идеи в группе B.\n",
        "\n",
        "-Понять причины низкого ARPPU в группе B: Проанализировать, почему клиенты покупают меньше.\n",
        "\n",
        "-Пробовать новые идеи: Запустить другие A/B-тесты с изменениями, чтобы найти более эффективные решения.\n",
        "\n",
        "-Увеличить количество покупок: Сосредоточиться на привлечении большего числа платящих клиентов.\n",
        "\n",
        "-Собрать отзывы от пользователей: Узнать, что им нравится и что можно улучшить.\n",
        "\n",
        "-Следить за результатами: Продолжать наблюдать за ARPPU и другими показателями со временем."
      ],
      "metadata": {
        "id": "Z4ASUDa1Spcw"
      }
    },
    {
      "cell_type": "code",
      "source": [],
      "metadata": {
        "id": "mE4ioxO_Sxme"
      },
      "execution_count": null,
      "outputs": []
    }
  ]
}