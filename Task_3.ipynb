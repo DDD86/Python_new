{
  "nbformat": 4,
  "nbformat_minor": 0,
  "metadata": {
    "colab": {
      "provenance": [],
      "authorship_tag": "ABX9TyPe23s9P04OjGDEjRZ8x7u5",
      "include_colab_link": true
    },
    "kernelspec": {
      "name": "python3",
      "display_name": "Python 3"
    },
    "language_info": {
      "name": "python"
    }
  },
  "cells": [
    {
      "cell_type": "markdown",
      "metadata": {
        "id": "view-in-github",
        "colab_type": "text"
      },
      "source": [
        "<a href=\"https://colab.research.google.com/github/DDD86/Python_new/blob/main/Task_3.ipynb\" target=\"_parent\"><img src=\"https://colab.research.google.com/assets/colab-badge.svg\" alt=\"Open In Colab\"/></a>"
      ]
    },
    {
      "cell_type": "code",
      "execution_count": 1,
      "metadata": {
        "id": "vjN3ixQlV0qW"
      },
      "outputs": [],
      "source": [
        "import numpy as np\n",
        "from scipy import stats"
      ]
    },
    {
      "cell_type": "code",
      "source": [
        "group1 = np.array([12.5, 13.0, 11.8, 12.7, 12.9, 13.4, 12.0])\n",
        "group2 = np.array([14.1, 13.7, 15.2, 14.0, 13.8, 14.6, 13.9])"
      ],
      "metadata": {
        "id": "NVzThQsoV179"
      },
      "execution_count": 4,
      "outputs": []
    },
    {
      "cell_type": "code",
      "source": [
        "shapiro_group1 = stats.shapiro(group1)\n",
        "shapiro_group2 = stats.shapiro(group2)\n",
        "\n",
        "print(f\"p-value для критерия Шапиро-Уилка (группа 1): {shapiro_group1.pvalue}\")\n",
        "print(f\"p-value для критерия Шапиро-Уилка (группа 2): {shapiro_group2.pvalue}\")"
      ],
      "metadata": {
        "colab": {
          "base_uri": "https://localhost:8080/"
        },
        "id": "kggfpPF8XeRa",
        "outputId": "67e25796-db05-4259-c514-fcf80fd1da0b"
      },
      "execution_count": 5,
      "outputs": [
        {
          "output_type": "stream",
          "name": "stdout",
          "text": [
            "p-value для критерия Шапиро-Уилка (группа 1): 0.8525365751933982\n",
            "p-value для критерия Шапиро-Уилка (группа 2): 0.12360988447913601\n"
          ]
        }
      ]
    },
    {
      "cell_type": "code",
      "source": [
        "alpha = 0.05\n",
        "\n",
        "if shapiro_group1.pvalue < alpha or shapiro_group2.pvalue < alpha:\n",
        "    print(\"Распределение данных не является нормальным. Применим непараметрический критерий Манна-Уитни.\")\n",
        "\n",
        "    stat, p_value = stats.mannwhitneyu(group1, group2)\n",
        "\n",
        "    print(f\"Статистика теста Манна-Уитни: {stat}\")\n",
        "    print(f\"P-value: {p_value}\")\n",
        "\n",
        "    if p_value < alpha:\n",
        "        print(\"Отвергаем нулевую гипотезу: группы CPA статистически различаются.\")\n",
        "    else:\n",
        "        print(\"Не можем отвергнуть нулевую гипотезу: группы CPA не имеют статистически значимых различий.\")\n",
        "else:\n",
        "    print(\"Распределение данных является нормальным, можно использовать параметрические тесты (например, t-тест).\")"
      ],
      "metadata": {
        "colab": {
          "base_uri": "https://localhost:8080/"
        },
        "id": "HiOT4vjPXgXZ",
        "outputId": "df39e864-c825-4a3a-822e-1b9d98ae5759"
      },
      "execution_count": 6,
      "outputs": [
        {
          "output_type": "stream",
          "name": "stdout",
          "text": [
            "Распределение данных является нормальным, можно использовать параметрические тесты (например, t-тест).\n"
          ]
        }
      ]
    },
    {
      "cell_type": "markdown",
      "source": [
        "**p-value для критерия Шапиро-Уилка показывает, что данные в обеих группах нормально распределены (p-value > 0.05).**\n",
        "\n",
        "**Выбор теста:** Поскольку данные нормальные, можно использовать t-тест для сравнения средних значений двух групп.\n",
        "\n",
        "**Нормальные данные:** t-тест подходит для нормально распределенных данных.\n",
        "\n",
        "**Сравнение средних:** Он помогает определить, есть ли значительная разница между средними значениями двух групп."
      ],
      "metadata": {
        "id": "Ew2SsJ06YBnx"
      }
    },
    {
      "cell_type": "code",
      "source": [],
      "metadata": {
        "id": "0A9lYd45YM5o"
      },
      "execution_count": null,
      "outputs": []
    }
  ]
}