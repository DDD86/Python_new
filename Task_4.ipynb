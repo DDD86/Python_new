{
  "nbformat": 4,
  "nbformat_minor": 0,
  "metadata": {
    "colab": {
      "provenance": [],
      "authorship_tag": "ABX9TyMOwlIBXpQAu2Yev/I4V82G",
      "include_colab_link": true
    },
    "kernelspec": {
      "name": "python3",
      "display_name": "Python 3"
    },
    "language_info": {
      "name": "python"
    }
  },
  "cells": [
    {
      "cell_type": "markdown",
      "metadata": {
        "id": "view-in-github",
        "colab_type": "text"
      },
      "source": [
        "<a href=\"https://colab.research.google.com/github/DDD86/Python_new/blob/main/Task_4.ipynb\" target=\"_parent\"><img src=\"https://colab.research.google.com/assets/colab-badge.svg\" alt=\"Open In Colab\"/></a>"
      ]
    },
    {
      "cell_type": "code",
      "execution_count": 1,
      "metadata": {
        "id": "64McIUT2ZOih"
      },
      "outputs": [],
      "source": [
        "import numpy as np\n",
        "from scipy import stats"
      ]
    },
    {
      "cell_type": "code",
      "source": [
        "# Данные для группы A и B\n",
        "mean_A = 360\n",
        "std_A = 40\n",
        "n_A = 9802\n",
        "\n",
        "mean_B = 352\n",
        "std_B = 58\n",
        "n_B = 9789"
      ],
      "metadata": {
        "id": "mxlKnEZQZQy6"
      },
      "execution_count": 2,
      "outputs": []
    },
    {
      "cell_type": "code",
      "source": [
        "# Вычисление стандартной ошибки\n",
        "se_A = std_A / np.sqrt(n_A)\n",
        "se_B = std_B / np.sqrt(n_B)\n",
        "\n",
        "# Вычисление t-статистики\n",
        "t_stat = (mean_A - mean_B) / np.sqrt(se_A**2 + se_B**2)\n",
        "\n",
        "# Степени свободы (приближенные, поскольку выборки почти равны)\n",
        "df = min(n_A - 1, n_B - 1)\n",
        "\n",
        "# Вычисление p-value для двустороннего теста\n",
        "p_value = 2 * (1 - stats.t.cdf(np.abs(t_stat), df))\n",
        "\n",
        "t_stat, p_value"
      ],
      "metadata": {
        "colab": {
          "base_uri": "https://localhost:8080/"
        },
        "id": "2qPqB2SpZdcZ",
        "outputId": "dbf5435b-308f-4963-8ddb-720edd07a08d"
      },
      "execution_count": 5,
      "outputs": [
        {
          "output_type": "execute_result",
          "data": {
            "text/plain": [
              "(11.236630785707332, 0.0)"
            ]
          },
          "metadata": {},
          "execution_count": 5
        }
      ]
    },
    {
      "cell_type": "markdown",
      "source": [
        "**t-статистика:** 11.24\n",
        "**p-value:** 0\n",
        "\n",
        "Это значит, что результат теста очень значимый, даже при уровне доверия 80% (где α = 0.20). Поскольку p-value намного меньше этого уровня, мы можем сказать, что среднее время, которое пользователи проводят, отличается между группами A и B.\n",
        "\n",
        "**Версия A (средняя 360) лучше, чем версия B (средняя 352). Поскольку разница значима, мы рекомендуем выпустить на продакшен версию A.**"
      ],
      "metadata": {
        "id": "O-75_gAyZ6Gn"
      }
    }
  ]
}